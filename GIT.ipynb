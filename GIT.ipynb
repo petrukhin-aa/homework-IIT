{
 "cells": [
  {
   "cell_type": "markdown",
   "metadata": {
    "id": "prFLovyVCdC4"
   },
   "source": [
    "\n",
    "#<font size=\"6\" color=\"black\" face=\"Times\"> <b>1. Титульный лист</font>\n"
   ]
  },
  {
   "cell_type": "markdown",
   "metadata": {
    "id": "p9sJsoj3mXns"
   },
   "source": [
    "<font size=\"2\" color=\"black\" face=\"Times\"><p align=\"center\">\n",
    "<b>МИНИСТЕРСТВО ЦИФРОВОГО РАЗВИТИЯ, СВЯЗИ И МАССОВЫХ КОММУНИКАЦИЙ РОССИЙСКОЙ ФЕДЕРАЦИИ\n",
    "</b></p></font>\n",
    "<hr>\n",
    "\n",
    "<font size=\"2\" color=\"black\" face=\"Times\"><p align=\"center\">\n",
    "<b>ОРДЕНА ТРУДОВОГО КРАСНОГО ЗНАМЕНИ ФЕДЕРАЛЬНОЕ ГОСУДАРСТВЕННОЕ БЮДЖЕТНОЕ ОБРАЗОВАТЕЛЬНОЕ УЧРЕЖДЕНИЕ ВЫСШЕГО ОБРАЗОВАНИЯ\n",
    "<br>«МОСКОВСКИЙ ТЕХНИЧЕСКИЙ УНИВЕРСИТЕТ СВЯЗИ И ИНФОРМАТИКИ»\n",
    "</b></p></font>\n",
    "<hr>\n",
    "\n",
    "<font size=\"2\" color=\"black\" face=\"Times\"><p align=\"center\">\n",
    "Факультет «Радио и телевидение»\n",
    "<br>Кафедра «Телевидения и Звукового Вещания имени С. И. Катаева.»\n",
    "</p></font>\n",
    "<hr>\n",
    "<br><br>\n",
    "\n",
    "<font size=\"2\" color=\"black\" face=\"Times\"><p align=\"center\">\n",
    "<br>Отчет о выполнении:\n",
    "<br>\n",
    "<font size=\"3\">Лабораторной работы № 12</font>\n",
    "<br>\n",
    "<br>по дисциплине:\n",
    "<br>\n",
    "<font size=\"3\">«Введение в информационные технологии»</font>\n",
    "<br>\n",
    "<br>На тему:\n",
    "<br>\n",
    "<font size=\"3\">«Системы контроля версий»</font>\n",
    "<br><br><br><br>\n",
    "<p align=\"right\"><font size=\"2\">Выполнил: Петрухин Андрей Андреевич\n",
    "<br> группа: БИК-2409\n",
    "<br>Проверил: ассистент каф. ТиЗВ: Кудряшов В. В.</font></p>\n",
    "<br><br>\n",
    "<p align=\"center\"><font size=\"2\">Москва, 2024 г.\n",
    "</font></p>"
   ]
  },
  {
   "cell_type": "markdown",
   "metadata": {
    "id": "WCoYPejwCd5I"
   },
   "source": [
    "#<font size=\"6\" color=\"black\" face=\"Times\"> <b>2. Содержание</font>"
   ]
  },
  {
   "cell_type": "markdown",
   "metadata": {
    "id": "DtGnx4L3mYIL"
   },
   "source": [
    "<font size=\"3\" color=\"black\" face=\"Times\">\n",
    "<a href = '#part3'>3. Теоретическая часть</a><br>\n",
    "<a href = '#part31'>&emsp;3.1. Разбор теоретических вопросов</a><br>\n",
    "<a href = '#part32'>&emsp;3.2. Используемые источники</a><br>\n",
    "\n",
    "<a href = '#part4'>4. Постановка задания</a><br>\n",
    "<a href = '#part41'>&emsp;4.1. Задание</a><br>\n",
    "<a href = '#part42'>&emsp;4.2. Цель работы</a><br>\n",
    "<a href = '#part43'>&emsp;4.3. Планирование задач</a><br>\n",
    "<a href = '#part44'>&emsp;4.4. Расчет исходных данных</a><br>\n",
    "\n",
    "<a href = '#part5'>5. Ход работы</a><br>\n",
    "<a href = '#part51'>&emsp;5.1. Задача 1</a><br>\n",
    "<a href = '#part52'>&emsp;5.2. Задача 2</a><br>\n",
    "<a href = '#part53'>&emsp;5.3. Задача 3</a><br>\n",
    "<a href = '#part54'>&emsp;5.4. Задача 4</a><br>\n",
    "<a href = '#part55'>&emsp;5.5. Задача 5</a><br>\n",
    "<a href = '#part56'>&emsp;5.6. Задача 6</a><br>\n",
    "<a href = '#part57'>&emsp;5.7. Задача 7</a><br>\n",
    "<a href = '#part58'>&emsp;5.8. Задача 8</a><br>\n",
    "\n",
    "<a href = '#part6'>6. Результаты</a><br>\n",
    "<a href = '#part61'>&emsp;6.1. Выводы</a><br>\n",
    "</font>"
   ]
  },
  {
   "cell_type": "markdown",
   "metadata": {
    "id": "b1gpGllHCeO0"
   },
   "source": [
    "#<font size=\"6\" color=\"black\" face=\"Times\"> <b>3. Теоретическая часть</font><a name = 'part3'>\n"
   ]
  },
  {
   "cell_type": "markdown",
   "metadata": {
    "id": "t-YgNjIk_-8y"
   },
   "source": [
    "##<font size=\"5\" color=\"black\" face=\"Times\"><b>&emsp;3.1. Разбор теоретических вопросов</b></font><a name = 'part31'>"
   ]
  },
  {
   "cell_type": "markdown",
   "metadata": {
    "id": "CQNKxm1k1XxD"
   },
   "source": [
    "<font size=\"3\" color=\"black\" face=\"Times\"><div align=\"justify\">\n",
    "&emsp;<b>Software versioning</b> — это процесс создания уникальных имен или номеров для различных версий продуктов программного обеспечения.\n",
    "\n",
    "   <br>&emsp;При имеющейся категории номера версии (главная, второстепенная), номера обычно выставляются в возрастающем порядке и соответствуют новым разработкам в программном обеспечении. На начальном уровне отслеживанием постепенно появляющихся версий электронной информации занимается система управления версиями, позволяющая хранить несколько версий одного и того же документа, при необходимости, возвращаться к более ранним версиям, определяя, кто и когда сделал то или иное изменение и многое другое. Вместе с тем для отслеживания изменений программного обеспечения было создано большое количество схем присвоения номеров версиям.\n",
    "   <br>&emsp;Каждой стадии разработки программного обеспечения соответствует уникальный идентификатор, который состоит из последовательности номеров или букв. В некоторых схемах последовательные идентификаторы используются для определения значимости перемен между стадиями разработки: эти перемены классифицируются по уровням значимости. Решение о том какую последовательность изменить между стадиями разработки основано на значимости перемен на последней стадии разработки, например в схеме, с версией, состоящей из последовательности 4 чисел, первое число может быть прибавлено только тогда когда код полностью переписан, в то время как четвертое число изменяется при незначительных переменах в интерфейсе или документации.\n",
    "   <br>&emsp;В более поздних релизах, главное число (major) увеличивается, когда происходят значительные переходы в функциональности, второстепенное число (minor) прибавляется только тогда, когда были добавлены незначительные функции или внесены исправления. Номер версии изменяется, если исправлены все мелкие неполадки. Для типичного программного продукта используются следующие номера: 0.9 (для бета-версии), 0.9.1, 0.9.2, 0.9.3, 1.0, 1.0.1, 1.0.2, 1.1, 1.1.1, 2.0, 2.0.1, 2.0.2, 2.1, 2.1.1, 2.1.2, 2.2, и т.д. Разработчики порой перескакивают от версии 5.0 сразу к 5.5, для того чтобы обозначить добавление нескольких значимых функций в программе, однако их не достаточно, чтобы изменить главный номер версии, тем не менее такие скачки все же неуместны.\n",
    "   <br>&emsp;Другой подход использования главных и второстепенных номеров версий заключается в добавлении буквенно-цифровой последовательности, определяя тем самым стадию разработки релиза: «альфа», «бета», «релиз кандидат». Серия версий с использованием этого подхода может выглядеть следующим образом: если к версиям 0.5, 0.6, 0.7, 0.8, 0.9 добавляются новые функции их можно назвать — 1.0b1, 1.0b2, еще плюс новые функции — 1.0b3, затем версия становится 1.0rc1. Если версия 1.0rc1 достаточно стабильна, то она становится 1.0, однако если в 1.0rc1 обнаруживаются ошибки, которые необходимо исправить она будет иметь номер 1.0rc2 и т.д. Важной характеристикой этого подхода является соблюдение идентичности стадий разработки версий. Нельзя вносить никаких изменений между последней бета-версией и первым релиз кандидатом или последним релиз кандидатом и готовым продуктом. Если вы это сделали, необходимо выпустить другую версию на более низкой стадии разработки.\n",
    "  <br>&emsp;Известные примеры буквенно-цифровых версий — Macromedia Flash MX, Adobe Photoshop CS2.\n",
    "\n",
    "   Иногда присутствие человеческого фактора в создании номеров версий приводит к ошибкам в изменении версий. Например, разработчики могут изменить последовательность между версиями, даже если одна строчка кода не была переписана, лишь для того чтобы создать ложное впечатление, что были внесены значительные изменения.\n",
    "\n",
    "Обозначение стадии разработки\n",
    "\n",
    "   Для присвоения альфа или бета статуса релизам, которые еще не достаточно стабильны для практического применения, существуют схемы, где в первой последовательности используется ноль. Он ставится третьим числом в тех случаях, когда планируется еще тестировать версию или версия годна только для внутреннего применения.\n",
    "\n",
    "Последовательность в таких схемах следующая:\n",
    "<ul>\n",
    "<li>0 — альфа</li>\n",
    "<li>1 — бета</li>\n",
    "<li><li>2 — релиз кандидат\n",
    "3 — публичный релиз\n",
    "Например:1.2.0.1 вместо 1.2-a</li>\n",
    "<li>1.2.1.2 вместо 1.2-b2 (бета с несколькими исправленными ошибками)</li>\n",
    "<li>1.2.2.3 вместо 1.2-rc (релиз кандидат)</li>\n",
    "<li>1.2.3.0 вместо 1.2-r (для коммерческого распространения)</li>\n",
    "<li>1.2.3.5 вместо 1.2-r5 (для коммерческого распространения со многими исправленными ошибками)</li>\n",
    "</ul>\n",
    "Разделение последовательностей\n",
    "\n",
    "   При публикации последовательности могут быть разделены знаками препинания. Выбор знаков препинания и их использования зависит от схемы.\n",
    "\n",
    "В следующем перечне показаны возможные примеры разделенных схем на одном и том же релизе:Схема может использовать один и тот же знак препинания между последовательностями: 2.4.13, 2/4/13, 2-4-13\n",
    "Выбор схемы, какие числа разделять, а какие нет, может быть противоречивым: 2.413\n",
    "Схема может использовать разные знаки препинания внутри одной последовательности: 2.4_13\n",
    "\n",
    "\n",
    "Номера последовательностей\n",
    "\n",
    "<br>&emsp;Иногда в схемах существует четвертое неопубликованное число, которое обозначает сборку (build) программного обеспечения (как это делает ,Microsoft). ,Adobe Flash наоборот больше всего выделяет четвертое число версии: 10.1.53.64. Некоторые компании также включают дату сборки. Номера версий могут включать буквы и знаки препинания: Lotus 1-2-3 Release 1a.\n",
    "\n",
    "Приращение последовательности\n",
    "\n",
    "   Существует два разных способа приращения последовательности номеров в версии.\n",
    "\n",
    "\n",
    "</div></font>"
   ]
  },
  {
   "cell_type": "markdown",
   "metadata": {
    "id": "fcl4Lk-D_8B_"
   },
   "source": [
    "##<font size=\"5\" color=\"black\" face=\"Times\"><b>&emsp;3.2. Используемые источники</b></font><a name = 'part32'>"
   ]
  },
  {
   "cell_type": "markdown",
   "metadata": {
    "id": "TZ6FTVZDA99M"
   },
   "source": [
    "<font size=\"3\" color=\"black\" face=\"Times\"><div align=\"justify\">\n",
    "<a name = 'liter1'>\n",
    "<a href = 'https://gitforwindows.org/'>&emsp;1. Установить GIT [Электронный ресурс]: Git for Windows – URL: https://gitforwindows.org/ (дата обращения: 30.11.2024).</a>\n",
    "<br>\n",
    "<a name = 'liter2'>\n",
    "<a href = 'https://habr.com/ru/post/273897/'>&emsp;2. Git и Github. Простые рецепты [Электронный ресурс]: Хабр - URL: https://habr.com/ru/articles/273897/ (дата обращения: 30.11.2024).</a>\n",
    "<br>\n",
    "<a name = 'liter3'>\n",
    "<a href = 'https://habr.com/ru/articles/342116'>&emsp;3. Git на практике [Электронный ресурс]: Хабр – URL: https://habr.com/ru/articles/342116 (дата обращения: 30.11.2024).</a>\n",
    "<br>\n",
    "<a name = 'liter4'>\n",
    "<a href = 'https://smartiqa.ru/courses/git/lesson-6'>&emsp;4. Работа с удаленным репозиторием. Модель ветвления.\n",
    "Команды: clone, fetch, push, pull.\n",
    " [Электронный ресурс]: smartiqa – URL: https://smartiqa.ru/courses/git/lesson-6(дата обращения: 30.11.2024).</a>\n",
    "<br>\n",
    "<a name = 'liter5'>\n",
    "<a href = 'https://htmlacademy.ru/blog/git/github-as-hosting'>&emsp;5. Как бесплатно залить сайт на GitHub Pages [Электронный ресурс]: htmlacademy – URL: https://htmlacademy.ru/blog/git/github-as-hosting (дата обращения: 30.11.2024).</a>\n",
    "<br>\n",
    "<a name = 'liter6'>\n",
    "<a href = 'https://habr.com/ru/post/458006/'>&emsp;6. Динамические serverless сайты на Github Pages (для тех, кто не знает, serverless используют сторонние API-сервера)[Электронный ресурс]: Хабр – URL: https://habr.com/ru/post/458006/ (дата обращения: 30.11.2024).</a>\n",
    "<br>\n",
    "</font>"
   ]
  },
  {
   "cell_type": "markdown",
   "metadata": {
    "id": "M8euZURCgDKt"
   },
   "source": [
    "#<font size=\"6\" color=\"black\" face=\"Times\"> <b>4. Постановка задания</font><a name = 'part4'>"
   ]
  },
  {
   "cell_type": "markdown",
   "metadata": {
    "id": "05Hg7ybQhFlP"
   },
   "source": [
    "\n",
    "##<font size=\"5\" color=\"black\" face=\"Times\"><b>&emsp;4.1. Задание</b></font><a name = 'part41'>"
   ]
  },
  {
   "cell_type": "markdown",
   "metadata": {
    "id": "cVCxEOCNw7GI"
   },
   "source": [
    "<font size=\"3\" color=\"black\" face=\"Times\"><div align=\"justify\">\n",
    "<ol>\n",
    "<li>Установить GIT</li>\n",
    "<li>Создать локальный репозиторий.\n",
    "</li>\n",
    "<li>Создать файл отчета по выполнению практической работы и поместить его в репозиторий\n",
    "</li>\n",
    "<li>Зафиксируйте в отчете все проделанные шаги и создайте версию отчета в GIT</li>\n",
    "<li>Создайте ветку отчета в GIT, добавьте описания шагов в отчет и создайте версию отчета в новой ветке.\n",
    "</li>\n",
    "<li>Слейте последнее изменение отчета в основную ветку.</li>\n",
    "<li>Регистрируемся на github (или используем уже существующий аккаунт), создаем проект «homework IIT», залейте содержимое из локального репозитория в проект на githab.</li>\n",
    "<li>Разместить на github ранее созданный статический и динамический сайт.</li>\n",
    "<li>Завершить отчет, добавив описание всех пунктов.</li>\n",
    "</ol>\n",
    "\n",
    "</div></font>"
   ]
  },
  {
   "cell_type": "markdown",
   "metadata": {
    "id": "4ygbpnwAkj3g"
   },
   "source": [
    "##<font size=\"5\" color=\"black\" face=\"Times\"><b>&emsp;4.2. Цель работы</b></font><a name = 'part42'>"
   ]
  },
  {
   "cell_type": "markdown",
   "metadata": {
    "id": "CnGYD2ArM0JD"
   },
   "source": [
    "<font size=\"3\" color=\"black\" face=\"Times\"><div align=\"justify\">&emsp;\n",
    "Установка GIT, создание репозитория и загрузка предыдущих работ на Git Hub"
   ]
  },
  {
   "cell_type": "markdown",
   "metadata": {
    "id": "Bnzxgbhek6QO"
   },
   "source": [
    "##<font size=\"5\" color=\"black\" face=\"Times\"><b>&emsp;4.3. Планирование задач</b></font><a name = 'part43'>"
   ]
  },
  {
   "cell_type": "markdown",
   "metadata": {
    "id": "sc01vfT88JNP"
   },
   "source": [
    "<font size=\"3\" color=\"black\" face=\"Times\"><div align=\"justify\">\n",
    "<ol>\n",
    "<li>Установить GIT</li>\n",
    "<li>Создать локальный репозиторий.\n",
    "</li>\n",
    "<li>Создать файл отчета по выполнению практической работы и поместить его в репозиторий\n",
    "</li>\n",
    "<li>Зафиксируйте в отчете все проделанные шаги и создайте версию отчета в GIT</li>\n",
    "<li>Создайте ветку отчета в GIT, добавьте описания шагов в отчет и создайте версию отчета в новой ветке.\n",
    "</li>\n",
    "<li>Слейте последнее изменение отчета в основную ветку.</li>\n",
    "<li>Регистрируемся на github (или используем уже существующий аккаунт), создаем проект «homework IIT», залейте содержимое из локального репозитория в проект на githab.</li>\n",
    "<li>Разместить на github ранее созданный статический и динамический сайт.</li>\n",
    "<li>Завершить отчет, добавив описание всех пунктов.</li>\n",
    "</ol>\n",
    "\n",
    "</div></font>"
   ]
  },
  {
   "cell_type": "markdown",
   "metadata": {
    "id": "5mR2cOoAlETN"
   },
   "source": [
    "##<font size=\"5\" color=\"black\" face=\"Times\"><b>&emsp;4.4. Расчет исходных данных</b></font><a name = 'part44'>"
   ]
  },
  {
   "cell_type": "markdown",
   "metadata": {
    "id": "Sgy7kUpw3kZt"
   },
   "source": [
    "<font size=\"3\" color=\"black\" face=\"Times\"><div align=\"justify\">\n",
    "Установка GIT, сайт - Git Hub\n",
    "</font>"
   ]
  },
  {
   "cell_type": "markdown",
   "metadata": {
    "id": "cHAFlMAGlKeo"
   },
   "source": [
    "#<font size=\"6\" color=\"black\" face=\"Times\"> <b>5. Ход работы</b></font><a name = 'part5'>"
   ]
  },
  {
   "cell_type": "markdown",
   "metadata": {
    "id": "vkjneCjFljAl"
   },
   "source": [
    "##<font size=\"5\" color=\"black\" face=\"Times\"><b>&emsp;5.1. Задача 1</b></font><a name = 'part51'>"
   ]
  },
  {
   "cell_type": "markdown",
   "metadata": {
    "id": "LUcX7aTZOhOH"
   },
   "source": [
    "<font size=\"3\" color=\"black\" face=\"Times\"><div align=\"justify\">\n",
    "<b>&emsp;Установить GIT.\n",
    "</font>"
   ]
  },
  {
   "cell_type": "code",
   "execution_count": null,
   "metadata": {
    "id": "KJkgDnpfRif_"
   },
   "outputs": [],
   "source": [
    "$ sudo dnf install git-all"
   ]
  },
  {
   "cell_type": "markdown",
   "metadata": {
    "id": "jUy07tx6sJpL"
   },
   "source": [
    "![alt text](Screenshot_737.png)"
   ]
  },
  {
   "cell_type": "markdown",
   "metadata": {
    "id": "X2WKfL5_4fs-"
   },
   "source": [
    "<font size=\"3\" color=\"black\" face=\"Times\"><div align=\"center\"><b>Рисунок 1.</b> Установка git на Linux\n",
    "</div></font>"
   ]
  },
  {
   "cell_type": "markdown",
   "metadata": {
    "id": "pZsAUbr3lpw4"
   },
   "source": [
    "##<font size=\"5\" color=\"black\" face=\"Times\"><b>&emsp;5.2. Задача 2</b></font><a name = 'part52'>"
   ]
  },
  {
   "cell_type": "markdown",
   "metadata": {
    "id": "EU1C1N6jOyzv"
   },
   "source": [
    "<font size=\"3\" color=\"black\" face=\"Times\"><div align=\"justify\">\n",
    "<b>&emsp;Создать локальный репозиторий\n",
    "</font>"
   ]
  },
  {
   "cell_type": "code",
   "execution_count": null,
   "metadata": {
    "id": "KZlHGoF8Ry-N"
   },
   "outputs": [],
   "source": [
    "$ git init"
   ]
  },
  {
   "cell_type": "markdown",
   "metadata": {
    "id": "O2zAQ567vYso"
   },
   "source": [
    "![alt text](Screenshot_744.png)"
   ]
  },
  {
   "cell_type": "markdown",
   "metadata": {
    "id": "ZNwP2w6Di7y2"
   },
   "source": [
    "<font size=\"3\" color=\"black\" face=\"Times\"><div align=\"center\"><b>Рисунок 2.</b> Пустой репозиторий\n",
    "</div></font>"
   ]
  },
  {
   "cell_type": "markdown",
   "metadata": {
    "id": "XVxHCcAIlwKj"
   },
   "source": [
    "##<font size=\"5\" color=\"black\" face=\"Times\"><b>&emsp;5.3. Задача 3</b></font><a name = 'part53'>"
   ]
  },
  {
   "cell_type": "markdown",
   "metadata": {
    "id": "HoIgAn4-O3Yd"
   },
   "source": [
    "<font size=\"3\" color=\"black\" face=\"Times\"><div align=\"justify\">\n",
    "<b>&emsp;\n",
    "Создать файл отчета по выполнению практической работы и поместить его в репозиторий\n",
    "\n",
    "</font>"
   ]
  },
  {
   "cell_type": "code",
   "execution_count": null,
   "metadata": {
    "id": "evCVvKP0PCmP"
   },
   "outputs": [],
   "source": [
    "$ git add GIT.ipynb"
   ]
  },
  {
   "cell_type": "markdown",
   "metadata": {
    "id": "JWhTb47HPnRN"
   },
   "source": [
    "![alt text](Screenshot_745.png)"
   ]
  },
  {
   "cell_type": "markdown",
   "metadata": {
    "id": "_9aExeMcPuj0"
   },
   "source": [
    "<font size=\"3\" color=\"black\" face=\"Times\"><div align=\"center\"><b>Рисунок 3.</b> Добавление файла в .git\n",
    "</div></font>"
   ]
  },
  {
   "cell_type": "markdown",
   "metadata": {
    "id": "hZDLDgbelzd2"
   },
   "source": [
    "##<font size=\"5\" color=\"black\" face=\"Times\"><b>&emsp;5.4. Задача 4</b></font><a name = 'part54'>\n",
    "\n",
    "\n",
    "\n",
    "\n",
    "\n"
   ]
  },
  {
   "cell_type": "markdown",
   "metadata": {
    "id": "eBMPpwFqQhwT"
   },
   "source": [
    "<font size=\"3\" color=\"black\" face=\"Times\"><div align=\"justify\">\n",
    "<b>&emsp;\n",
    "Зафиксируйте в отчете все проделанные шаги и создайте версию отчета в GIT\n",
    "\n",
    "</font>"
   ]
  },
  {
   "cell_type": "code",
   "execution_count": null,
   "metadata": {
    "id": "0wKqbBHAQr4P"
   },
   "outputs": [],
   "source": [
    "$ git -m commit \"Создан шаблон отчета и выполнены задачи №1 и 2\""
   ]
  },
  {
   "cell_type": "markdown",
   "metadata": {
    "id": "51O2wjPDRCZN"
   },
   "source": [
    "![alt text](Screenshot_746.png)"
   ]
  },
  {
   "cell_type": "markdown",
   "metadata": {
    "id": "j-666n-5RQTM"
   },
   "source": [
    "<font size=\"3\" color=\"black\" face=\"Times\"><div align=\"center\"><b>Рисунок 4.</b> Коммит\n",
    "</div></font>"
   ]
  },
  {
   "cell_type": "markdown",
   "metadata": {
    "id": "nhC0QcVIPcq3"
   },
   "source": [
    "##<font size=\"5\" color=\"black\" face=\"Times\"><b>&emsp;5.5. Задача 5</b></font><a name = 'part55'>"
   ]
  },
  {
   "cell_type": "markdown",
   "metadata": {
    "id": "Nz8imODnTPkC"
   },
   "source": [
    "<font size=\"3\" color=\"black\" face=\"Times\"><div align=\"justify\">\n",
    "<b>&emsp;\n",
    "Создайте ветку отчета в GIT, добавьте описания шагов в отчет и создайте версию отчета в новой ветке.\n",
    "\n",
    "</font>"
   ]
  },
  {
   "cell_type": "code",
   "execution_count": null,
   "metadata": {
    "id": "uzrkt0BiTWCM"
   },
   "outputs": [],
   "source": [
    "$ git brench LOW # создаем ветку\n",
    "$ git checkout LOW # переключаемся на эту ветку\n",
    "$ git add GIT2.ipynb # загружаем дополненный файл во вторую ветку"
   ]
  },
  {
   "cell_type": "markdown",
   "metadata": {
    "id": "FDo6KUfUTVSU"
   },
   "source": [
    "![alt text](Screenshot_747.png)"
   ]
  },
  {
   "cell_type": "markdown",
   "metadata": {
    "id": "Rvf7wlGerfaR"
   },
   "source": [
    "<font size=\"3\" color=\"black\" face=\"Times\"><div align=\"center\"><b>Рисунок 5.</b> Статус второй ветки\n",
    "</div></font>"
   ]
  },
  {
   "cell_type": "code",
   "execution_count": null,
   "metadata": {
    "id": "yeSNM7oLrr_j"
   },
   "outputs": [],
   "source": [
    "$ git commit -m \"Реализованы задачи №1-4\""
   ]
  },
  {
   "cell_type": "markdown",
   "metadata": {
    "id": "EYk3mpXnsDeC"
   },
   "source": [
    "![Screenshot from 2024-12-09 16-51-51.png](data:image/png;base64,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)"
   ]
  },
  {
   "cell_type": "markdown",
   "metadata": {
    "id": "8XnPsxxZr6jH"
   },
   "source": [
    "<font size=\"3\" color=\"black\" face=\"Times\"><div align=\"center\"><b>Рисунок 6.</b> Коммит второй ветки\n",
    "</div></font>"
   ]
  },
  {
   "cell_type": "markdown",
   "metadata": {
    "id": "6XfkMuTGuMLM"
   },
   "source": [
    "##<font size=\"5\" color=\"black\" face=\"Times\"><b>&emsp;5.6. Задача 6</b></font><a name = 'part56'>"
   ]
  },
  {
   "cell_type": "markdown",
   "metadata": {
    "id": "8LZTl4RYtXd5"
   },
   "source": [
    "<font size=\"3\" color=\"black\" face=\"Times\"><div align=\"justify\">\n",
    "<b>&emsp;\n",
    "Слейте последнее изменение отчета в основную ветку.\n",
    "</font>"
   ]
  },
  {
   "cell_type": "code",
   "execution_count": null,
   "metadata": {
    "id": "2Cbn2qketfOX"
   },
   "outputs": [],
   "source": [
    "$ git checkout master # переключаемся на основную ветку\n",
    "$ git add GIT3.ipynb # добавляем файл\n",
    "$ git commit -m \"Реализованы задачи №1-5\" #коммитим"
   ]
  },
  {
   "cell_type": "markdown",
   "metadata": {
    "id": "rLe22_eatSSb"
   },
   "source": [
    "![Screenshot from 2024-12-09 16-59-59.png](data:image/png;base64,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)"
   ]
  },
  {
   "cell_type": "markdown",
   "metadata": {
    "id": "XkVTl8h-uN6C"
   },
   "source": [
    "<font size=\"3\" color=\"black\" face=\"Times\"><div align=\"center\"><b>Рисунок 7.</b> Коммит второй файла основной ветки\n",
    "</div></font>"
   ]
  },
  {
   "cell_type": "markdown",
   "metadata": {
    "id": "XKWZHjCNuV27"
   },
   "source": [
    "##<font size=\"5\" color=\"black\" face=\"Times\"><b>&emsp;5.7. Задача 7</b></font><a name = 'part57'>"
   ]
  },
  {
   "cell_type": "markdown",
   "metadata": {
    "id": "tS-n4-OZO00a"
   },
   "source": [
    "<font size=\"3\" color=\"black\" face=\"Times\"><div align=\"justify\">\n",
    "<b>&emsp;\n",
    "Регистрируемся на github (или используем уже существующий аккаунт), создаем проект «homework IIT», залейте содержимое из локального репозитория в проект на githab.\n",
    "</font>"
   ]
  },
  {
   "cell_type": "code",
   "execution_count": null,
   "metadata": {
    "id": "RGEKkSx9PKVf"
   },
   "outputs": [],
   "source": [
    "$ git remote add origin https://github.com/dimaaao/laba_git.git # подключаемся к GitHub\n",
    "$ git push origin master # Подключаем основную ветку к GitHub\n",
    "$ git push origin LOW # Подключаем вторую ветку к GitHub"
   ]
  },
  {
   "cell_type": "markdown",
   "metadata": {
    "id": "w1R6dJLVPwmd"
   },
   "source": [
    "![alt text](Screenshot_748.png)"
   ]
  },
  {
   "cell_type": "markdown",
   "metadata": {
    "id": "ESOXUN6WQWU1"
   },
   "source": [
    "<font size=\"3\" color=\"black\" face=\"Times\"><div align=\"center\"><b>Рисунок 8.</b> Подключение основной ветки\n",
    "</div></font>"
   ]
  },
  {
   "cell_type": "markdown",
   "metadata": {
    "id": "udYAAuusPwLB"
   },
   "source": [
    "![alt text](Screenshot_749.png)"
   ]
  },
  {
   "cell_type": "markdown",
   "metadata": {
    "id": "ENR-3uoWQW9D"
   },
   "source": [
    "<font size=\"3\" color=\"black\" face=\"Times\"><div align=\"center\"><b>Рисунок 9.</b> Подключение второй ветки\n",
    "</div></font>"
   ]
  },
  {
   "cell_type": "markdown",
   "metadata": {
    "id": "aJG3e4dvQYJz"
   },
   "source": [
    "<font size=\"3\" color=\"black\" face=\"Times\"><div align=\"center\"><b>Рисунок 10.</b> Результат подключения\n",
    "</div></font>"
   ]
  },
  {
   "cell_type": "markdown",
   "metadata": {
    "id": "SBWaCf67uWm6"
   },
   "source": [
    "##<font size=\"5\" color=\"black\" face=\"Times\"><b>&emsp;5.8. Задача 8</b></font><a name = 'part58'>"
   ]
  },
  {
   "cell_type": "markdown",
   "metadata": {
    "id": "0p8LsvSsUM7w"
   },
   "source": [
    "<font size=\"3\" color=\"black\" face=\"Times\"><div align=\"justify\">\n",
    "<b>&emsp;\n",
    "Разместить на github ранее созданные статический и динамический сайт.\n",
    "\n",
    "</font>"
   ]
  },
  {
   "cell_type": "code",
   "execution_count": null,
   "metadata": {
    "id": "qR30ff5OUzyW"
   },
   "outputs": [],
   "source": [
    "$ git add . # Добавляем папки со статическим и динамическим сайтом в git\n",
    "$ git commit -m # коммитим\n",
    "$ git push origin master # добавляем папки с сайтами на GitHub"
   ]
  },
  {
   "cell_type": "markdown",
   "metadata": {
    "id": "1M7UzXDbWDM-"
   },
   "source": [
    "<font size=\"3\" color=\"black\" face=\"Times\"><div align=\"center\"><b>Рисунок 11.</b> Добавление сайтов на GitHub\n",
    "</div></font>"
   ]
  },
  {
   "cell_type": "markdown",
   "metadata": {
    "id": "mN-YqKrAl7Y6"
   },
   "source": [
    "#<font size=\"6\" color=\"black\" face=\"Times\"> <b>6. Результаты</b></font><a name = 'part6'>"
   ]
  },
  {
   "cell_type": "markdown",
   "metadata": {
    "id": "EJQpuEgfWnD6"
   },
   "source": [
    "<font size=\"3\" color=\"black\" face=\"Times\">\n",
    "&emsp;Я успешно создал репозиторий, подключил GIT и дабавил предыдущие работы на GitHub</font>"
   ]
  },
  {
   "cell_type": "markdown",
   "metadata": {
    "id": "eKmg3m2SmI7h"
   },
   "source": [
    "##<font size=\"5\" color=\"black\" face=\"Times\"><b>&emsp;6.1. Выводы</b></font><a name = 'part61'>"
   ]
  },
  {
   "cell_type": "markdown",
   "metadata": {
    "id": "uk6eTwdUWQAu"
   },
   "source": [
    "<font size=\"3\" color=\"black\" face=\"Times\">\n",
    "&emsp;Git действительно удобные сервис для разработки сообща, в команде</font>"
   ]
  }
 ],
 "metadata": {
  "colab": {
   "provenance": [
    {
     "file_id": "1cXcRkWVoJnsOkn0H95XhLS2ME4XDoMf3",
     "timestamp": 1726301744553
    }
   ],
   "toc_visible": true
  },
  "kernelspec": {
   "display_name": "Python 3",
   "name": "python3"
  },
  "language_info": {
   "name": "python"
  }
 },
 "nbformat": 4,
 "nbformat_minor": 0
}
